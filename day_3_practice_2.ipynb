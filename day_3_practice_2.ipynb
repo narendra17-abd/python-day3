{
  "nbformat": 4,
  "nbformat_minor": 0,
  "metadata": {
    "colab": {
      "provenance": []
    },
    "kernelspec": {
      "name": "python3",
      "display_name": "Python 3"
    },
    "language_info": {
      "name": "python"
    }
  },
  "cells": [
    {
      "cell_type": "markdown",
      "source": [
        "## Write a python program to crate a lambda funciotn that adds 15 to a given numebr\n"
      ],
      "metadata": {
        "id": "Cu2MTBpAH98v"
      }
    },
    {
      "cell_type": "code",
      "source": [
        "add_15 = lambda x: x + 15\n",
        "input_number = float(input(\"Enter a number: \"))\n",
        "result = add_15(input_number)\n",
        "print(f\"Result after adding 15: {result}\")"
      ],
      "metadata": {
        "id": "ERMc1QfnIYgd",
        "colab": {
          "base_uri": "https://localhost:8080/"
        },
        "outputId": "64180a07-4eff-4550-ce6c-53148be85be2"
      },
      "execution_count": 2,
      "outputs": [
        {
          "output_type": "stream",
          "name": "stdout",
          "text": [
            "Enter a number: 5\n",
            "Result after adding 15: 20.0\n"
          ]
        }
      ]
    },
    {
      "cell_type": "markdown",
      "source": [
        "## Write a funciton to create a prime number generator"
      ],
      "metadata": {
        "id": "QvheE-ZfIJFc"
      }
    },
    {
      "cell_type": "code",
      "source": [
        "def prime_generator():\n",
        "    primes = []\n",
        "    num = 2\n",
        "    while True:\n",
        "        is_prime = True\n",
        "        for prime in primes:\n",
        "            if num % prime == 0:\n",
        "                is_prime = False\n",
        "                break\n",
        "\n",
        "        if is_prime:\n",
        "            yield num\n",
        "            primes.append(num)\n",
        "        num += 1\n",
        "generator = prime_generator()\n",
        "for _ in range(10):\n",
        "    print(next(generator))\n"
      ],
      "metadata": {
        "id": "z19r-AaMIIlC",
        "colab": {
          "base_uri": "https://localhost:8080/"
        },
        "outputId": "dccb83f2-2382-42f8-d7f8-4b48e8254bba"
      },
      "execution_count": 1,
      "outputs": [
        {
          "output_type": "stream",
          "name": "stdout",
          "text": [
            "2\n",
            "3\n",
            "5\n",
            "7\n",
            "11\n",
            "13\n",
            "17\n",
            "19\n",
            "23\n",
            "29\n"
          ]
        }
      ]
    },
    {
      "cell_type": "markdown",
      "source": [
        "## Create a lambda funtion to filter out the even numebr from a given list"
      ],
      "metadata": {
        "id": "fgG1qcgaIZKL"
      }
    },
    {
      "cell_type": "code",
      "source": [
        "numbers = [1, 2, 3, 4, 5, 6, 7, 8, 9, 10]\n",
        "\n",
        "filtered_numbers = list(filter(lambda x: x % 2 == 0, numbers))\n",
        "\n",
        "print(filtered_numbers)"
      ],
      "metadata": {
        "colab": {
          "base_uri": "https://localhost:8080/"
        },
        "id": "BYwcP3vUZRcn",
        "outputId": "8e1de124-7b70-4254-c5b5-521364b6256c"
      },
      "execution_count": null,
      "outputs": [
        {
          "output_type": "stream",
          "name": "stdout",
          "text": [
            "[2, 4, 6, 8, 10]\n"
          ]
        }
      ]
    },
    {
      "cell_type": "markdown",
      "source": [
        "## create funciton for fibbonacci series generator"
      ],
      "metadata": {
        "id": "NMp0TAZaI18z"
      }
    },
    {
      "cell_type": "code",
      "source": [
        "def fibonacci_generator():\n",
        "    a, b = 0, 1\n",
        "    while True:\n",
        "        yield a\n",
        "        a, b = b, a + b\n",
        "\n",
        "\n",
        "fibonacci = fibonacci_generator()\n",
        "for _ in range(10):\n",
        "    print(next(fibonacci))"
      ],
      "metadata": {
        "id": "dpa2ABE8JCnt",
        "colab": {
          "base_uri": "https://localhost:8080/"
        },
        "outputId": "a30614ba-3aea-4fde-f94a-128eb6068b24"
      },
      "execution_count": null,
      "outputs": [
        {
          "output_type": "stream",
          "name": "stdout",
          "text": [
            "0\n",
            "1\n",
            "1\n",
            "2\n",
            "3\n",
            "5\n",
            "8\n",
            "13\n",
            "21\n",
            "34\n"
          ]
        }
      ]
    }
  ]
}