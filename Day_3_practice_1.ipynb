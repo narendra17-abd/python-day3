{
  "nbformat": 4,
  "nbformat_minor": 0,
  "metadata": {
    "colab": {
      "provenance": []
    },
    "kernelspec": {
      "name": "python3",
      "display_name": "Python 3"
    },
    "language_info": {
      "name": "python"
    }
  },
  "cells": [
    {
      "cell_type": "markdown",
      "source": [],
      "metadata": {
        "id": "KZ91_NegViLz"
      }
    },
    {
      "cell_type": "markdown",
      "source": [
        "## problem 1\n",
        "Create a dictionary where the keys correspond to the area of a flat adn value for each is the price of the house for 10 flat in kompally"
      ],
      "metadata": {
        "id": "B1Fhdmi9V3LI"
      }
    },
    {
      "cell_type": "code",
      "source": [
        "# Dictionary of house area and house prices of 10 houses in\n",
        "area_price = {'Flat1': 1000, 'Flat2': 1200, 'Flat3': 900, 'Flat4': 1100, 'Flat5': 950,\n",
        "              'Flat6': 1300, 'Flat7': 800, 'Flat8': 1150, 'Flat9': 1050, 'Flat10': 1250}"
      ],
      "metadata": {
        "id": "zihWmw3NWXQX"
      },
      "execution_count": null,
      "outputs": []
    },
    {
      "cell_type": "markdown",
      "source": [
        "### Now broker predicts the price as can be written as : <b><code>predicted_price(area) = 0.06*area + 15</code></b>"
      ],
      "metadata": {
        "id": "JI2jaDf8Wp2D"
      }
    },
    {
      "cell_type": "code",
      "source": [
        "def predicted_price(area):\n",
        "    return 0.06 * area + 15"
      ],
      "metadata": {
        "id": "1iu0QiznB511"
      },
      "execution_count": null,
      "outputs": []
    },
    {
      "cell_type": "markdown",
      "source": [
        "Using the concept of list comprehension,create a list of predicted flat price using the above formula\n"
      ],
      "metadata": {
        "id": "v_K_Z8dtW6-D"
      }
    },
    {
      "cell_type": "code",
      "source": [
        "# Create a list of house areas\n",
        "predicted_prices = [predicted_price(area) for area in area_price.values()]\n",
        "\n",
        "# Print the list of predicted flat prices\n",
        "print(\"List of predicted flat prices:\", predicted_prices)\n",
        "\n",
        "# Create a list of actual house prices\n",
        "actual_prices = list(area_price.values())"
      ],
      "metadata": {
        "id": "F732P6DHXVYH",
        "colab": {
          "base_uri": "https://localhost:8080/"
        },
        "outputId": "6a67f3db-38e6-4dc6-d0ff-db54e21e7c57"
      },
      "execution_count": null,
      "outputs": [
        {
          "output_type": "stream",
          "name": "stdout",
          "text": [
            "List of predicted flat prices: [75.0, 87.0, 69.0, 81.0, 72.0, 93.0, 63.0, 84.0, 78.0, 90.0]\n"
          ]
        }
      ]
    },
    {
      "cell_type": "markdown",
      "source": [
        "## Create another list which contains the squares of differences of each element of the two price lists : the actual prices and the predicted prices\n"
      ],
      "metadata": {
        "id": "-ZrRO78DXZq6"
      }
    },
    {
      "cell_type": "code",
      "source": [
        "squared_differences = [(actual - predicted) ** 2 for actual, predicted in zip(actual_prices, predicted_prices)]\n",
        "print(\"List of squared differences:\", squared_differences)"
      ],
      "metadata": {
        "id": "dEpxZqK7XzeD",
        "colab": {
          "base_uri": "https://localhost:8080/"
        },
        "outputId": "a4c18e42-50ab-4303-b261-85efbdc97600"
      },
      "execution_count": null,
      "outputs": [
        {
          "output_type": "stream",
          "name": "stdout",
          "text": [
            "List of squared differences: [855625.0, 1238769.0, 690561.0, 1038361.0, 770884.0, 1456849.0, 543169.0, 1136356.0, 944784.0, 1345600.0]\n"
          ]
        }
      ]
    },
    {
      "cell_type": "markdown",
      "source": [
        "## <u> Problem 2</u>\n",
        "\n",
        "## A sigmoid function is a mathematical function having a characteristic \"S\"-shaped curve or sigmoid curve. A common example of a sigmoid function is the logistic function shown in the first figure and defined by the formula:\n",
        "\n",
        "$$ h(x) =  \\frac{\\mathrm{1} }{\\mathrm{1} + e^{-x} }  $$\n",
        "\n",
        "\n",
        "## Range is defined as all the possible values which the function $h(x)$ can take. Domain is defined as all the possible values which $x$ can take. In this case, range of the function is between 0 to 1 and the domain of the function is all real numbers"
      ],
      "metadata": {
        "id": "PEC_OtXRXrCg"
      }
    },
    {
      "cell_type": "markdown",
      "source": [
        "### You are given a list of values of $x$. You need to use list comprehension to calculate the corresponding transformation according to the sigmoid function defined above"
      ],
      "metadata": {
        "id": "YZCTres_XsB0"
      }
    },
    {
      "cell_type": "code",
      "source": [
        "# Sigmoid function\n",
        "sigmoid = lambda x: 1 / (1 + 2.71828 ** -x)\n",
        "\n",
        "# Given list of values of x\n",
        "x_values = [-2, -1, 0, 1, 2]\n",
        "\n",
        "# List comprehension to calculate sigmoid transformation for each x\n",
        "sigmoid_values = [sigmoid(x) for x in x_values]\n",
        "\n",
        "# List comprehension for boolean values based on sigmoid range\n",
        "boolean_values = [(0 <= sigmoid_x <= 1) for sigmoid_x in sigmoid_values]\n",
        "\n",
        "# List comprehension for values greater than 0.5\n",
        "greater_than_half = [sigmoid_x for sigmoid_x in sigmoid_values if sigmoid_x > 0.5]\n",
        "\n",
        "# Print the results\n",
        "print(\"Sigmoid values:\", sigmoid_values)\n",
        "print(\"Boolean values:\", boolean_values)\n",
        "print(\"Values greater than 0.5:\", greater_than_half)"
      ],
      "metadata": {
        "id": "TmYb4SluYC4S",
        "colab": {
          "base_uri": "https://localhost:8080/"
        },
        "outputId": "3fee2b09-81f3-4433-8965-b0d9fb9a639b"
      },
      "execution_count": null,
      "outputs": [
        {
          "output_type": "stream",
          "name": "stdout",
          "text": [
            "Sigmoid values: [0.11920306327063111, 0.26894155362156696, 0.5, 0.731058446378433, 0.880796936729369]\n",
            "Boolean values: [True, True, True, True, True]\n",
            "Values greater than 0.5: [0.731058446378433, 0.880796936729369]\n"
          ]
        }
      ]
    },
    {
      "cell_type": "markdown",
      "source": [
        "# <u> Problem 3</u>\n",
        "\n",
        "## You are given a sentence : <code>\"I have been walking and running and dancing and smiling and laughing all my life, yet it all seems pointless. So i stoped thinking and started doing\"</code>\n",
        "\n",
        "## You are required to extract all those words from this sentence in a list which ends with <code>ing</code>"
      ],
      "metadata": {
        "id": "j31JnVUtYNU-"
      }
    },
    {
      "cell_type": "code",
      "source": [
        "# Your sentence\n",
        "my_sentence =\"I have been walking and running and dancing and smiling and laughing all my life, yet it all seems pointless. So i stopped thinking and started doing\"\n",
        "\n",
        "words = my_sentence.split()\n",
        "res = [word.strip(\",.\") for word in words if word.endswith(\"ing\")]\n",
        "\n",
        "print(res)"
      ],
      "metadata": {
        "id": "8s6rFnH2YO1z",
        "colab": {
          "base_uri": "https://localhost:8080/"
        },
        "outputId": "c67e4d51-7f6f-415e-bc67-ed2390a70e42"
      },
      "execution_count": null,
      "outputs": [
        {
          "output_type": "stream",
          "name": "stdout",
          "text": [
            "['walking', 'running', 'dancing', 'smiling', 'laughing', 'thinking', 'doing']\n"
          ]
        }
      ]
    },
    {
      "cell_type": "markdown",
      "source": [
        "# <u> Problem 4</u>\n",
        "\n",
        "#### Natural Language Processing or NLP is one of the most promising fields in Machine Learning. Most of the times in NLP we deal with the textual data (a bunch of strings). Sometimes when we are processing the text, it is a common practice to get rid of some set of stop words from our original text. By default stop words are very common words used in English language such as and, or, punctuations etc.\n",
        "\n",
        "#### In this exercise, you are provided with a default set of stop words and you need to add some extra set of custom words and remove these words from the given sentence and obtain the sentence without the stop words"
      ],
      "metadata": {
        "id": "rYwInhGlYOyz"
      }
    },
    {
      "cell_type": "code",
      "source": [
        "# A sample sentence\n",
        "sen=\"The sun hung low in the sky, casting long shadows across the rolling hills. Birds chirped merrily as they flitted from tree to tree, their songs filling the air with joy. A gentle breeze rustled the leaves, carrying with it the sweet scent of wildflowers. In the distance, a river meandered lazily through the valley, its waters shimmering in the golden light. Along its banks, tall grasses swayed in the wind, whispering secrets to the passing clouds. The world seemed to pause in that moment, as if holding its breath in anticipation of something magical. And indeed, there was magic all around, woven into the very fabric of nature itself. Each blade of grass, each petal of a flower, seemed to dance with life, imbued with a sense of wonder and awe. It was a scene straight out of a fairy tale, where dreams and reality intertwined in a beautiful tapestry of existence.\"\n",
        "# Print your sentence\n",
        "print(sen)"
      ],
      "metadata": {
        "id": "b86yHqHEYOpp",
        "colab": {
          "base_uri": "https://localhost:8080/"
        },
        "outputId": "7e2665a4-0f49-4d2d-9d8a-08799a25f333"
      },
      "execution_count": null,
      "outputs": [
        {
          "output_type": "stream",
          "name": "stdout",
          "text": [
            "The sun hung low in the sky, casting long shadows across the rolling hills. Birds chirped merrily as they flitted from tree to tree, their songs filling the air with joy. A gentle breeze rustled the leaves, carrying with it the sweet scent of wildflowers. In the distance, a river meandered lazily through the valley, its waters shimmering in the golden light. Along its banks, tall grasses swayed in the wind, whispering secrets to the passing clouds. The world seemed to pause in that moment, as if holding its breath in anticipation of something magical. And indeed, there was magic all around, woven into the very fabric of nature itself. Each blade of grass, each petal of a flower, seemed to dance with life, imbued with a sense of wonder and awe. It was a scene straight out of a fairy tale, where dreams and reality intertwined in a beautiful tapestry of existence.\n"
          ]
        }
      ]
    },
    {
      "cell_type": "code",
      "source": [
        "# Default set of stop words\n",
        "stop_words = {\"i\", \"me\", \"my\", \"myself\", \"we\", \"our\", \"ours\", \"ourselves\", \"you\", \"your\", \"yours\", \"yourself\",\n",
        "              \"yourselves\", \"he\", \"him\", \"his\", \"himself\", \"she\", \"her\", \"hers\", \"herself\", \"it\", \"its\", \"itself\",\n",
        "              \"they\", \"them\", \"their\", \"theirs\", \"themselves\", \"what\", \"which\", \"who\", \"whom\", \"this\", \"that\",\n",
        "              \"these\", \"those\", \"am\", \"is\", \"are\", \"was\", \"were\", \"be\", \"been\", \"being\", \"have\", \"has\", \"had\",\n",
        "              \"having\", \"do\", \"does\", \"did\", \"doing\", \"a\", \"an\", \"the\", \"and\", \"but\", \"if\", \"or\", \"because\",\n",
        "              \"as\", \"until\", \"while\", \"of\", \"at\", \"by\", \"for\", \"with\", \"about\", \"against\", \"between\", \"into\",\n",
        "              \"through\", \"during\", \"before\", \"after\", \"above\", \"below\", \"to\", \"from\", \"up\", \"down\", \"in\", \"out\",\n",
        "              \"on\", \"off\", \"over\", \"under\", \"again\", \"further\", \"then\", \"once\", \"here\", \"there\", \"when\", \"where\",\n",
        "              \"why\", \"how\", \"all\", \"any\", \"both\", \"each\", \"few\", \"more\", \"most\", \"other\", \"some\", \"such\", \"no\",\n",
        "              \"nor\", \"not\", \"only\", \"own\", \"same\", \"so\", \"than\", \"too\", \"very\", \"s\", \"t\", \"can\", \"will\", \"just\",\n",
        "              \"don\", \"should\", \"now\"}"
      ],
      "metadata": {
        "id": "RbyJscXWYh0z"
      },
      "execution_count": null,
      "outputs": []
    },
    {
      "cell_type": "code",
      "source": [
        "\n",
        "custom_stop_words = {\"hello\",\"folks\",\"good\",\"morning\",\"half\",\"year\"}\n",
        "stop = stop_words.union(custom_stop_words)\n",
        "print(stop_words)"
      ],
      "metadata": {
        "id": "JCZ3mWDEYplT",
        "colab": {
          "base_uri": "https://localhost:8080/"
        },
        "outputId": "5aab39a4-180a-4f9a-f4ec-97554efed773"
      },
      "execution_count": null,
      "outputs": [
        {
          "output_type": "stream",
          "name": "stdout",
          "text": [
            "{'into', 'can', 'she', 'was', 'too', 'with', 'again', 'does', 'themselves', 'but', 'why', 'if', 'your', 'for', 'has', 'me', 'my', 'we', 'up', 'be', 'ourselves', 'them', 'of', 'had', 'having', 'some', 'only', 'doing', 'a', 'when', 'most', 'now', 'at', 'hers', 'such', 'further', 'few', 'where', 'not', 'both', 'until', 'will', 'any', 'its', 'than', 'off', 'there', 'under', 'himself', 'him', 'her', 'from', 'have', 'yourself', 'are', 'which', 'itself', 'above', 'here', 'through', 'just', 'very', 'no', 'an', 'once', 'these', 'theirs', 'because', 'to', 'on', 'his', 'against', 'during', 'how', 'so', 'am', 'or', 'by', 'i', 's', 'then', 'out', 'did', 'herself', 'is', 'been', 'nor', 'after', 'you', 'that', 'the', 'between', 'this', 'own', 'our', 'their', 'those', 'yours', 'in', 'about', 'all', 't', 'what', 'myself', 'same', 'ours', 'down', 'other', 'as', 'while', 'whom', 'they', 'he', 'who', 'more', 'over', 'should', 'do', 'and', 'were', 'it', 'below', 'being', 'don', 'each', 'before', 'yourselves'}\n"
          ]
        }
      ]
    },
    {
      "cell_type": "code",
      "source": [
        "# Create the list of words in the given sentence.\n",
        "a = sen.split()"
      ],
      "metadata": {
        "id": "OG_iCUm9Yyx3"
      },
      "execution_count": null,
      "outputs": []
    },
    {
      "cell_type": "code",
      "source": [
        "# Use list comprehension to remove the set of updated stop words from the list of words\n",
        "b = [word for word in a if word.lower() not in stop]"
      ],
      "metadata": {
        "id": "Kk665UtXY3UH"
      },
      "execution_count": null,
      "outputs": []
    },
    {
      "cell_type": "code",
      "source": [
        "# Finally using the join() method, get the sentence without the stop words. Keep in mind that every word in the sentence will be separated by space\n",
        "new_sen = ' '.join(b)\n",
        "\n",
        "# Print the modified sentence\n",
        "print(new_sen)"
      ],
      "metadata": {
        "id": "RzO-jDZVY6wD",
        "colab": {
          "base_uri": "https://localhost:8080/"
        },
        "outputId": "78783101-985e-4a73-9eb3-b9755ea73f3c"
      },
      "execution_count": null,
      "outputs": [
        {
          "output_type": "stream",
          "name": "stdout",
          "text": [
            "sun hung low sky, casting long shadows across rolling hills. Birds chirped merrily flitted tree tree, songs filling air joy. gentle breeze rustled leaves, carrying sweet scent wildflowers. distance, river meandered lazily valley, waters shimmering golden light. Along banks, tall grasses swayed wind, whispering secrets passing clouds. world seemed pause moment, holding breath anticipation something magical. indeed, magic around, woven fabric nature itself. blade grass, petal flower, seemed dance life, imbued sense wonder awe. scene straight fairy tale, dreams reality intertwined beautiful tapestry existence.\n"
          ]
        }
      ]
    }
  ]
}